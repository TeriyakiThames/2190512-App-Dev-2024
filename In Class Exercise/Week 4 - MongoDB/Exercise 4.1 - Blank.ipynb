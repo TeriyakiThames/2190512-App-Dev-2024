{
  "nbformat": 4,
  "nbformat_minor": 0,
  "metadata": {
    "colab": {
      "provenance": []
    },
    "kernelspec": {
      "name": "python3",
      "display_name": "Python 3"
    },
    "language_info": {
      "name": "python"
    }
  },
  "cells": [
    {
      "cell_type": "markdown",
      "source": [
        "## MongoDB on Google Colab\n",
        "\n",
        "Google Colab environment is based on Ubuntu Linux. The Colab runtime used Ubuntu as its underlying Operating System.\n",
        "*   Check exact version of the OS in Colab environment via shell command\n",
        "*   In Colab, use `!` character at the beginning of the line in code cell to run shell commands\n",
        "\n"
      ],
      "metadata": {
        "id": "BC9P-qQnv66X"
      }
    },
    {
      "cell_type": "code",
      "source": [
        "# Check version of OS in Colab environment\n",
        "!lsb_release -a"
      ],
      "metadata": {
        "id": "C0mrrW77v5O6",
        "outputId": "5da2b225-de36-4890-b8fa-1126ca06163a",
        "colab": {
          "base_uri": "https://localhost:8080/"
        }
      },
      "execution_count": null,
      "outputs": [
        {
          "output_type": "stream",
          "name": "stdout",
          "text": [
            "No LSB modules are available.\n",
            "Distributor ID:\tUbuntu\n",
            "Description:\tUbuntu 22.04.3 LTS\n",
            "Release:\t22.04\n",
            "Codename:\tjammy\n"
          ]
        }
      ]
    },
    {
      "cell_type": "markdown",
      "source": [
        "## MongoDB Installation\n",
        "MongoDB 8.0 Community Edition supports various 64-bit Ubuntu LTS releases on x86_64 architecture; 20.04 LTS (\"Focal\"), 22.04 LTS (\"Jammy\"), and 24.04 LTS (\"Noble\").\n",
        "*   `cat /etc/lsb-release` command determines Ubuntu release of the environment.\n",
        "\n"
      ],
      "metadata": {
        "id": "nxw48rJ3pb33"
      }
    },
    {
      "cell_type": "markdown",
      "source": [
        "**Please refer to** https://www.mongodb.com/docs/manual/tutorial/install-mongodb-on-ubuntu/#std-label-install-mdb-community-ubuntu"
      ],
      "metadata": {
        "id": "VGhvNcPDmk0U"
      }
    },
    {
      "cell_type": "code",
      "source": [
        "# Determines Ubuntu release of the environment\n",
        "! cat /etc/lsb-release"
      ],
      "metadata": {
        "id": "4zNnINnxm-Uy"
      },
      "execution_count": null,
      "outputs": []
    },
    {
      "cell_type": "markdown",
      "source": [
        "### Import MongoDB public GPG key\n",
        "To install MongoDB Community Edition, import MongoDB public GPG key.\n",
        "\n",
        "Download `.asc` (ASCII-armored file) which contains public key.\n",
        "*   `curl` (Client URL) command transfer/download data from server, with option `-f` (Fail silently on HTTP errors), `-s` (Silent mode), `-S` (Show errors) and `-L` (Follow redirects).\n",
        "\n",
        "Pipe the output to the following command to be convert into machine-readable binary format.\n",
        "*   `gpg` command uses GNU Privacy Guard (GPG) tool to perform GPG related operation such as encrypting, decrypting, signing, and verifying data; `--dearmor` option converts `.asc` file into its binary form; `-o` flag specifies output file to write the result.\n",
        "\n"
      ],
      "metadata": {
        "id": "d4EtVAqJz4BN"
      }
    },
    {
      "cell_type": "code",
      "execution_count": null,
      "metadata": {
        "id": "c9VBLmHRmZ_i"
      },
      "outputs": [],
      "source": [
        "# Download public key in .asc file from remote server and de-armor into .gpg file\n",
        "! curl -fsSL https://www.mongodb.org/static/pgp/server-8.0.asc | \\\n",
        "   sudo gpg -o /usr/share/keyrings/mongodb-server-8.0.gpg \\\n",
        "   --dearmor"
      ]
    },
    {
      "cell_type": "code",
      "source": [
        "# Check the .gpg output file\n",
        "! ls -l /usr/share/keyrings/mongodb-server-8.0.gpg"
      ],
      "metadata": {
        "id": "plH0v2_Q5kop"
      },
      "execution_count": null,
      "outputs": []
    },
    {
      "cell_type": "markdown",
      "source": [
        "### Install MongoDB using Package from MongoDB Repository\n",
        "In Debian-based Linux distributions (like Ubuntu), additional software repositories (or package sources) are defined in repository list files stored in `/etc/apt/sources.list.d/`.\n",
        "\n",
        "Each repository listing file contains lines with the following format\n",
        "\n",
        "`deb [options] <repository_url> <distribution> <components>`\n",
        "\n",
        "such as\n",
        "\n",
        "`deb http://ppa.launchpad.net/some/ppa/ubuntu jammy main`"
      ],
      "metadata": {
        "id": "oZYKro7h6cdP"
      }
    },
    {
      "cell_type": "code",
      "source": [
        "# Observe existing repository list files\n",
        "!ls -l /etc/apt/sources.list.d/"
      ],
      "metadata": {
        "id": "vw7TWFWW9JcP"
      },
      "execution_count": null,
      "outputs": []
    },
    {
      "cell_type": "markdown",
      "source": [
        "Create the list file defining MongoDB software repository for Ubuntu 22.04 (Jammy). Save output to `/etc/apt/sources.list.d/mongodb-org-8.0.list`\n",
        "*   `echo` command to print specified text or value of variables\n",
        "*   `tee` command used with pipe to save intermediate output\n",
        "\n"
      ],
      "metadata": {
        "id": "szH3ri139c0C"
      }
    },
    {
      "cell_type": "code",
      "source": [
        "! echo \"deb [ arch=amd64,arm64 signed-by=/usr/share/keyrings/mongodb-server-8.0.gpg ] https://repo.mongodb.org/apt/ubuntu jammy/mongodb-org/8.0 multiverse\" | sudo tee /etc/apt/sources.list.d/mongodb-org-8.0.list"
      ],
      "metadata": {
        "id": "w0Ws7eQvmx2H"
      },
      "execution_count": null,
      "outputs": []
    },
    {
      "cell_type": "code",
      "source": [
        "# Check content of the generated list file.\n",
        "! cat /etc/apt/sources.list.d/mongodb-org-8.0.list"
      ],
      "metadata": {
        "id": "-ZS_ZHMoA-_6"
      },
      "execution_count": null,
      "outputs": []
    },
    {
      "cell_type": "markdown",
      "source": [
        "Reload the local package database"
      ],
      "metadata": {
        "id": "akCUQdtTBS5G"
      }
    },
    {
      "cell_type": "code",
      "source": [
        "! sudo apt-get update"
      ],
      "metadata": {
        "id": "HtIK79DqnHuR"
      },
      "execution_count": null,
      "outputs": []
    },
    {
      "cell_type": "markdown",
      "source": [
        "Install the latest stable version of MongoDB Community Server."
      ],
      "metadata": {
        "id": "XUV1Ft1yBiGh"
      }
    },
    {
      "cell_type": "code",
      "source": [
        "! sudo apt-get install -y mongodb-org\n"
      ],
      "metadata": {
        "id": "V0ynuZHMnK6X"
      },
      "execution_count": null,
      "outputs": []
    },
    {
      "cell_type": "markdown",
      "source": [
        "## Use MongoDB\n",
        "### Run MongoDB Community Edition\n",
        "To run MongoDB in Colab environment, create a working directory and change both the owner and the group of the file to `mongodb`.\n",
        "*   `mkdir` command creates a new directory with `-p` option to create corresponding parent directory if required.\n",
        "*   `chown` command changes ownership of file or directory. Change owner and  group by specifying in the format USER:GROUP. Use `-R` option to change the ownership/group of a directory and all its contents recursively.\n",
        "\n"
      ],
      "metadata": {
        "id": "0voU56n4CpRL"
      }
    },
    {
      "cell_type": "code",
      "source": [
        "# Create /data/db directory, create parent directories if required\n",
        "!mkdir -p /data/db\n",
        "# Recursively change owner and group to mongodb\n",
        "!sudo chown -R mongodb:mongodb /data/db"
      ],
      "metadata": {
        "id": "WIMqBYkOnYGC"
      },
      "execution_count": null,
      "outputs": []
    },
    {
      "cell_type": "code",
      "source": [
        "# Check /data/db directory and ownership\n",
        "! ls -l /data/"
      ],
      "metadata": {
        "id": "KFICGa-uFyWs"
      },
      "execution_count": null,
      "outputs": []
    },
    {
      "cell_type": "markdown",
      "source": [
        "**MongoDB Process**\n",
        "\n",
        "**mongod** is primary daemon process for MongoDB system. It handles data requests, manages data access, and performs background management operations. See https://www.mongodb.com/docs/manual/reference/program/mongod/#mongodb-binary-bin.mongod\n",
        "\n",
        "**`mongod`** command starts MongoDB process.\n",
        "\n",
        "*   `--dbpath` option speficies directory where the mongod instance stores its data. Default is `/data/db` on Linux and macOS, `\\data\\db` on Windows.\n",
        "*   `--bind_ip` option speficies hostnames and/or IP addresses and/or full Unix domain socket paths on which mongod should listen for client connections. Default is `localhost`.\n",
        "*   `--logpath` option speficies log file to send all diagnostic logging information to instead of to standard output or to the host's syslog system.\n",
        "*   `--fork` option enables a daemon mode that runs the mongod process in the background.\n",
        "\n"
      ],
      "metadata": {
        "id": "1HJeBYemGBjs"
      }
    },
    {
      "cell_type": "code",
      "source": [
        "!mongod --dbpath /data/db --bind_ip 127.0.0.1 --logpath /data/db/mongod.log --fork\n"
      ],
      "metadata": {
        "id": "wgdCwaYeoFOV"
      },
      "execution_count": null,
      "outputs": []
    },
    {
      "cell_type": "markdown",
      "source": [
        "After the process has been started, log can be observed. The default port that MongoDB listens to client connection is 27017.\n",
        "\n",
        "**`tail`** command in Linux displays last few lines of a file or output from a command. By default, tail shows the last 10 lines.\n",
        "*   `-n` option specifies the number of lines to display\n",
        "\n"
      ],
      "metadata": {
        "id": "WdDT-xpVeYUG"
      }
    },
    {
      "cell_type": "code",
      "source": [
        "# Tail mongod.log\n",
        "!tail -n 20 /data/db/mongod.log"
      ],
      "metadata": {
        "id": "NB6PwD8DoKJX"
      },
      "execution_count": null,
      "outputs": []
    },
    {
      "cell_type": "markdown",
      "source": [
        "### Pymongo\n",
        "**pymongo Installation**\n",
        "\n",
        "PyMongo contains tools for interacting with MongoDB database from Python. The pymongo package is a native Python driver for MongoDB. See https://www.mongodb.com/docs/languages/python/pymongo-driver/current/\n",
        "\n",
        "*   Use `pip` (default package manager for Python) to install pymongo\n",
        "\n"
      ],
      "metadata": {
        "id": "VbSGwpQqfGhE"
      }
    },
    {
      "cell_type": "code",
      "source": [
        "# Use pip to install pymongo\n",
        "!pip install pymongo"
      ],
      "metadata": {
        "id": "u4WkzylxoTF3"
      },
      "execution_count": null,
      "outputs": []
    },
    {
      "cell_type": "markdown",
      "source": [
        "#### MongoClient\n",
        "Connecting to a MongoDB deployment requires 2 components:\n",
        "\n",
        "\n",
        "1.   **`MongoClient`** object creates the connection to the MongoDB deployment and allows operations on it.\n",
        "2.   **`Connection URI`** or connection string describes which MongoDB deployment to connect to.\n",
        "\n",
        "Connection URI includes:\n",
        "*   `mongodb://` as prefix\n",
        "*   `host[:port]` specifying host and optional port number where MongoDB is running\n",
        "*   optional `username:password` as authentication credential\n",
        "*   `/defaultauthdb` specifying authentication database to use if the connection string includes `username:password@` authentication credentials but not the `authSource` option. Without this component, client authenticates user against admin database.\n",
        "\n"
      ],
      "metadata": {
        "id": "uqIfSHUEhHF6"
      }
    },
    {
      "cell_type": "markdown",
      "source": [
        "#### Database Instance\n",
        "To get a Database instance from a `MongoClient` use either dictionary-style or attribute-style access:\n",
        "*   `clientObj['dbName']`\n",
        "*   `clientObj.dbName`\n",
        "\n",
        "For attribute names with leading underscores. Must use dict-style."
      ],
      "metadata": {
        "id": "EaSWEaiIk29R"
      }
    },
    {
      "cell_type": "markdown",
      "source": [
        "#### Collection\n",
        "To access collection in database instance, use either dictionary-style or attribute-style access:\n",
        "*   `dbInstance['collectionName']`\n",
        "*   `dbInstance.collectionName`\n",
        "\n",
        "For attribute names with leading underscores. Must use dict-style."
      ],
      "metadata": {
        "id": "yDNcSWHTm39L"
      }
    },
    {
      "cell_type": "markdown",
      "source": [
        "#### Insert Document\n",
        "**`insert_one(document, bypass_validation=False, session=None, comment=None)`** inserts a single document.\n",
        "*   `document` : Document to insert. Must be mutable mapping type. If the document does not have an `_id` field one will be added automatically.\n",
        "*   `bypass_validation` : (optional) If `True`, allows write to opt-out of document level validation. Default is `False`.\n",
        "*   `session` : (optional) a `ClientSession` object.\n",
        "*   `comment` : (optional) user-provided comment to attach to this command.\n",
        "\n",
        "Returns `InsertOneResult` which contains the following properties:\n",
        "*   `inserted_id` : inserted document’s _id.\n",
        "*   `acknowledged` : whether this result of acknowledged write operation; `False` when using `WriteConcern(w=0)`, otherwise `True`.\n",
        "\n",
        "---\n",
        "\n",
        "**`insert_many(documents, ordered=True, bypass_document_validation=False, session=None, comment=None)`** inserts an iterable of documents.\n",
        "*   `documents` :  Iterable of documents to insert.\n",
        "*   `ordered` :  If `True` (default) documents will be inserted on server serially, in order provided. If error occurs all remaining inserts are aborted. If `False`, documents will be inserted on server in arbitrary order, possibly in parallel, and all document inserts will be attempted.\n",
        "*   `bypass_validation` : (optional) If `True`, allows write to opt-out of document level validation. Default is `False`.\n",
        "*   `session` : (optional) a `ClientSession` object.\n",
        "*   `comment` : (optional) user-provided comment to attach to this command.\n",
        "\n",
        "Returns `InsertManyResult` which contains the following properties:\n",
        "*   `inserted_ids` : list of `_ids` of the inserted documents, in the order provided.\n",
        "*   `acknowledged` : whether this result of acknowledged write operation; `False` when using `WriteConcern(w=0)`, otherwise `True`."
      ],
      "metadata": {
        "id": "UO5KLXiKnWs_"
      }
    },
    {
      "cell_type": "markdown",
      "source": [
        "#### Query Document\n",
        "**`count_documents(filter, session=None, comment=None, **kwargs)`** count the number of documents in this collection.\n",
        "*   `filter` : A query document `(Mapping[str, Any])` that selects which documents to count in the collection. Can be an empty document to count all documents.\n",
        "*   `session` : (optional) a `ClientSession` object.\n",
        "*   `comment` : (optional) user-provided comment to attach to this command.\n",
        "\n",
        "Returns number of documents in `int`.\n",
        "\n",
        "---\n",
        "\n",
        "**`find(filter=None, projection=None, skip=0, limit=0, no_cursor_timeout=False, cursor_type=CursorType.NON_TAILABLE, sort=None, allow_partial_results=False, oplog_replay=False, batch_size=0, collation=None, hint=None, max_scan=None, max_time_ms=None, max=None, min=None, return_key=False, show_record_id=False, snapshot=False, comment=None, session=None, allow_disk_use=None)`** Query the database.\n",
        "*   `filter` : A query document that selects which documents to include in the result set. Can be an empty document to include all documents.\n",
        "*   `projection` : a list of field names that should be returned in the result set or a dict specifying the fields to include or exclude. If `projection` is a list, `_id` will always be returned. Use a dict to exclude fields from the result (e.g. `projection={'_id': False}`).\n",
        "*   `session` : (optional) a `ClientSession` object.\n",
        "*   `sort` : a list of `(key, direction)` pairs specifying the sort order for this query.\n",
        "\n",
        "Returns `Cursor` object.\n",
        "\n",
        "---\n",
        "\n",
        "**`find_one(filter=None, *args, **kwargs)`** get a single document from the database. All arguments to `find()` are also valid arguments for `find_one()`, although any limit argument will be ignored.\n",
        "*   `filter` : dictionary specifying the query to be performed OR any other type to be used as the value for a query for `\"_id\"`; for example `{\"_id\": 1}`.\n",
        "\n",
        "Returns document."
      ],
      "metadata": {
        "id": "JfkIYYJGrxXy"
      }
    },
    {
      "cell_type": "code",
      "source": [
        "from pymongo import MongoClient\n",
        "\n",
        "# Connect to MongoDB\n",
        "\n",
        "\n",
        "# Create a database and collection\n",
        "\n"
      ],
      "metadata": {
        "id": "GdhHiGMBoXM3"
      },
      "execution_count": null,
      "outputs": []
    },
    {
      "cell_type": "markdown",
      "source": [
        "### Test using pymongo\n",
        "\n",
        "**`list_database_names(session=None, comment=None)`** gets a list of the names of all databases on the connected server.\n",
        "*   `session` : (optional) a `ClientSession` object.\n",
        "*   `comment` : (optional) user-provided comment to attach to this command.\n",
        "\n",
        "Returns list of database names"
      ],
      "metadata": {
        "id": "q-J4OLUdoj-F"
      }
    },
    {
      "cell_type": "code",
      "source": [
        "# get a list of the names of all databases on the connected server\n"
      ],
      "metadata": {
        "id": "9JanZdgYogm3"
      },
      "execution_count": null,
      "outputs": []
    },
    {
      "cell_type": "markdown",
      "source": [
        "## BSON format\n",
        "\n",
        "BSON (Bin­ary JSON) is a binary encoded serialization of JSON-like documents. Like JSON, BSON supports the embedding of documents and arrays within other documents and arrays. BSON also contains extensions that allow representation of data types that are not part of the JSON spec. For example, BSON has a Date type and a Bin Data type.\n",
        "\n",
        "The `bson` package is an implementation of the BSON format for Python."
      ],
      "metadata": {
        "id": "EYSivhid6P7i"
      }
    },
    {
      "cell_type": "code",
      "source": [
        "from pymongo import MongoClient\n",
        "from bson import encode, decode\n",
        "\n",
        "# Connect to MongoDB\n",
        "  # Create/use a test database\n",
        "  # Create/use a test collection\n",
        "\n",
        "# Insert a sample document\n",
        "doc = {\n",
        "    \"_id\": 1,\n",
        "    \"name\": \"John Doe\",\n",
        "    \"age\": 29,\n",
        "    \"address\": {\n",
        "        \"city\": \"New York\",\n",
        "        \"zipcode\": \"10001\"\n",
        "    },\n",
        "    \"interests\": [\"sports\", \"music\"]\n",
        "}\n",
        "collection.insert_one(doc)\n",
        "\n",
        "# Retrieve and display the document\n",
        "\n",
        "\n",
        "# Convert document to BSON\n",
        "\n",
        "\n",
        "# Decode BSON back to JSON-like format\n",
        "\n"
      ],
      "metadata": {
        "id": "I6K-2llC2I6t"
      },
      "execution_count": null,
      "outputs": []
    },
    {
      "cell_type": "code",
      "source": [
        "encode(retrieved_doc)"
      ],
      "metadata": {
        "id": "jPSmnrWZ2pKf"
      },
      "execution_count": null,
      "outputs": []
    },
    {
      "cell_type": "markdown",
      "source": [
        "## CRUD Operations\n",
        "\n",
        "CRUD stands for Create, Read, Update, and Delete, and it represents 4 basic operations that can be performed on data in database"
      ],
      "metadata": {
        "id": "RPHT0QDG6SX7"
      }
    },
    {
      "cell_type": "markdown",
      "source": [
        "#### insert_one, insert_many"
      ],
      "metadata": {
        "id": "sydE1zNt7ugL"
      }
    },
    {
      "cell_type": "code",
      "source": [
        "  # Create/use a test database\n",
        "  # Create/use a test collection\n",
        "\n",
        "# insert {\"name\": \"Alice\", \"age\": 25}\n",
        "\n",
        "# insert [{\"name\": \"Bob\", \"age\": 30}, {\"name\": \"Charlie\", \"age\": 35}]"
      ],
      "metadata": {
        "id": "vK9iH8Ib6mKx"
      },
      "execution_count": null,
      "outputs": []
    },
    {
      "cell_type": "markdown",
      "source": [
        "#### find_one, find"
      ],
      "metadata": {
        "id": "g5aMN7XP7yh-"
      }
    },
    {
      "cell_type": "code",
      "source": [
        "# Use find_one\n"
      ],
      "metadata": {
        "id": "3fgd7qZy8AGh"
      },
      "execution_count": null,
      "outputs": []
    },
    {
      "cell_type": "code",
      "source": [
        "# Use find_one to find {\"name\": \"Bob\"}\n"
      ],
      "metadata": {
        "id": "jrNQjV8g7rgp"
      },
      "execution_count": null,
      "outputs": []
    },
    {
      "cell_type": "code",
      "source": [
        "# Use find()\n"
      ],
      "metadata": {
        "id": "5Kr_jIJQ8JIV"
      },
      "execution_count": null,
      "outputs": []
    },
    {
      "cell_type": "markdown",
      "source": [
        "#### update_one, update_many\n",
        "\n",
        "**`update_one(filter, update, upsert=False, bypass_document_validation=False, collation=None, array_filters=None, hint=None, session=None, let=None, comment=None)`** updates a single document matching the filter.\n",
        "*   `filter` : A query that matches the document to update, (`Mapping[str, Any]`).\n",
        "*   `update` : The modifications to apply. (`Union[Mapping[str, Any], _Pipeline]`)\n",
        "*   `upsert` :  If `True`, perform an insert if no documents match the filter.\n",
        "*   `session` : (optional) a `ClientSession` object.\n",
        "*   `comment` : (optional) user-provided comment to attach to this command.\n",
        "\n",
        "Returns instance of `UpdateResult`, which properties such as\n",
        "*   `raw_result` : raw result document returned by the server\n",
        "*   `matched_count` : number of documents matched for this update\n",
        "*   `modified_count` : number of documents modified\n",
        "*   `acknowledged` : whether this result of acknowledged write operation; `False` when using `WriteConcern(w=0)`, otherwise `True`.\n",
        "*   `upserted_id` : `_id` of the inserted document if an upsert took place. Otherwise `None`.\n",
        "\n",
        "---\n",
        "\n",
        "**`update_many(filter, update, upsert=False, array_filters=None, bypass_document_validation=None, collation=None, hint=None, session=None, let=None, comment=None)`** update one or more documents that match the filter.\n",
        "*   `filter` : A query that matches the document to update, (`Mapping[str, Any]`).\n",
        "*   `update` : The modifications to apply. (`Union[Mapping[str, Any], _Pipeline]`)\n",
        "*   `upsert` :  If `True`, perform an insert if no documents match the filter.\n",
        "*   `session` : (optional) a `ClientSession` object.\n",
        "*   `comment` : (optional) user-provided comment to attach to this command.\n",
        "\n",
        "Returns instance of `UpdateResult`"
      ],
      "metadata": {
        "id": "R3GJvEE49OfR"
      }
    },
    {
      "cell_type": "code",
      "source": [
        "# Use update_one to update {\"name\": \"Alice\"} perform {\"$set\": {\"age\": 26}}\n",
        "# updateResult =\n",
        "print(\"Number of documents matched:\", updateResult.matched_count)\n",
        "print(\"Number of documents modified:\", updateResult.modified_count)"
      ],
      "metadata": {
        "id": "vg5oeJbd8L0N"
      },
      "execution_count": null,
      "outputs": []
    },
    {
      "cell_type": "code",
      "source": [
        "# Observe collection\n",
        "for doc in collection.find():\n",
        "    print(doc)"
      ],
      "metadata": {
        "id": "M4oilek49Uqk"
      },
      "execution_count": null,
      "outputs": []
    },
    {
      "cell_type": "code",
      "source": [
        "# Use update_many to update documents with {\"age\": {\"$lt\": 32}} perform {\"$set\": {\"status\": \"young\"}}\n",
        "# updateResult =\n",
        "\n",
        "print(\"Number of documents matched:\", updateResult.matched_count)\n",
        "print(\"Number of documents modified:\", updateResult.modified_count)"
      ],
      "metadata": {
        "id": "5cz_GlWw9jy-"
      },
      "execution_count": null,
      "outputs": []
    },
    {
      "cell_type": "code",
      "source": [
        "# Observe collection\n",
        "for doc in collection.find():\n",
        "    print(doc)"
      ],
      "metadata": {
        "id": "0W6x1ww09lB6"
      },
      "execution_count": null,
      "outputs": []
    },
    {
      "cell_type": "markdown",
      "source": [
        "#### delete_one, delete_many\n",
        "\n",
        "**`delete_one(filter, collation=None, hint=None, session=None, let=None, comment=None)`** deletes a single document matching the filter.\n",
        "\n",
        "*   `filter` : A query that matches the document to delete, (`Mapping[str, Any]`).\n",
        "*   `session` : (optional) a `ClientSession` object.\n",
        "*   `comment` : (optional) user-provided comment to attach to this command.\n",
        "\n",
        "Returns instance of `DeleteResult`, which properties such as\n",
        "*   `raw_result` : raw result document returned by the server\n",
        "*   `deleted_count` : number of documents deleted\n",
        "*   `acknowledged` : whether this result of acknowledged write operation; `False` when using `WriteConcern(w=0)`, otherwise `True`.\n",
        "\n",
        "\n",
        "---\n",
        "\n",
        "**`delete_many(filter, collation=None, hint=None, session=None, let=None, comment=None)`** delete one or more documents matching the filter.\n",
        "*   `filter` : A query that matches the document to delete, (`Mapping[str, Any]`).\n",
        "*   `session` : (optional) a `ClientSession` object.\n",
        "*   `comment` : (optional) user-provided comment to attach to this command.\n",
        "\n",
        "Returns instance of `DeleteResult`\n",
        "\n",
        "To delete all documents, call `delete_many` with empty filter `{}`."
      ],
      "metadata": {
        "id": "_glseRpeyzTx"
      }
    },
    {
      "cell_type": "code",
      "source": [
        "# Use delete_one to delete document with {\"name\": \"Charlie\"}\n",
        "\n",
        "# Observe collection\n",
        "for doc in collection.find():\n",
        "    print(doc)"
      ],
      "metadata": {
        "id": "rbsc1ubK9sQY"
      },
      "execution_count": null,
      "outputs": []
    },
    {
      "cell_type": "code",
      "source": [
        "# Use delete_many to delete documents with {\"age\": {\"$lt\":35}}\n",
        "\n",
        "# Observe collection\n",
        "for doc in collection.find():\n",
        "    print(doc)"
      ],
      "metadata": {
        "id": "Y58wmvwm-5x7"
      },
      "execution_count": null,
      "outputs": []
    },
    {
      "cell_type": "markdown",
      "source": [
        "## Aggregation Function\n",
        "\n",
        "In this exercise, we will read data from an excel file, convert to a dictionary representing record-like documents of data, and insert them into collection in the database.\n",
        "\n",
        "Excel file https://data.go.th/dataset/d46af694-d117-4253-b426-1203a6213d30/resource/78d4f56e-8f2f-4bb8-90c8-93d945237dff/download/___51-58_cutname_newyear_edit.xlsx stores data:\n",
        "\n",
        "![Screenshot 2025-01-27 164321.png](data:image/png;base64,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)"
      ],
      "metadata": {
        "id": "epT50cb6pqcM"
      }
    },
    {
      "cell_type": "code",
      "source": [
        "import pandas as pd\n",
        "\n",
        "df=pd.read_excel('https://data.go.th/dataset/d46af694-d117-4253-b426-1203a6213d30/resource/78d4f56e-8f2f-4bb8-90c8-93d945237dff/download/___51-58_cutname_newyear_edit.xlsx')\n",
        "df"
      ],
      "metadata": {
        "id": "yodb43Z-sy2Z"
      },
      "execution_count": null,
      "outputs": []
    },
    {
      "cell_type": "markdown",
      "source": [
        "**`DataFrame.to_dict(orient='dict', *, into=<class 'dict'>, index=True)`** convert the DataFrame to a dictionary.\n",
        "*   `orient` : type of the values of the dictionary. Default is 'dict' produces dict like `{column -> {index -> value}}`. With orient 'records' the key-value pairs are list like `[{column -> value}, … , {column -> value}]`\n",
        "*   `into` : class `collections.abc.MutableMapping` subclass used for all Mappings in the return value. Default is `dict`.\n",
        "*   `index` : Whether to include the index item. Default is `True`.\n",
        "\n"
      ],
      "metadata": {
        "id": "Ye6capuwPoVW"
      }
    },
    {
      "cell_type": "code",
      "source": [
        "# Convert DataFrame to Dictionary\n",
        "list_of_dicts = df.to_dict('records')\n",
        "list_of_dicts"
      ],
      "metadata": {
        "id": "7lCZA-ELPm-d"
      },
      "execution_count": null,
      "outputs": []
    },
    {
      "cell_type": "code",
      "source": [
        "# Check existing databases\n",
        "client.list_database_names()"
      ],
      "metadata": {
        "id": "FCTV_7J8_AZY"
      },
      "execution_count": null,
      "outputs": []
    },
    {
      "cell_type": "code",
      "source": [
        "# Insert into collection 'main_data' of database 'accident_data'\n"
      ],
      "metadata": {
        "id": "uft1Ri-MRpFx"
      },
      "execution_count": null,
      "outputs": []
    },
    {
      "cell_type": "markdown",
      "source": [
        "### Data Exploration\n",
        "**`db.list_collection_names()`** list the collections in a database\n",
        "\n",
        "\n",
        "\n",
        "\n",
        "\n"
      ],
      "metadata": {
        "id": "Bks5qmXPSUek"
      }
    },
    {
      "cell_type": "code",
      "source": [
        "# Observe database changes\n",
        "client['accident_data'].list_collection_names()"
      ],
      "metadata": {
        "id": "MrjZHPn6StAK"
      },
      "execution_count": null,
      "outputs": []
    },
    {
      "cell_type": "code",
      "source": [
        "# Access main_data collection and access first document\n"
      ],
      "metadata": {
        "id": "2ZXFsSdCS9PQ"
      },
      "execution_count": null,
      "outputs": []
    },
    {
      "cell_type": "markdown",
      "source": [
        "#### Filter by Some Columns"
      ],
      "metadata": {
        "id": "Bb9obgccSpWz"
      }
    },
    {
      "cell_type": "code",
      "source": [
        "[rec for rec in accident_collection.find({'อายุ':{'$gt':50},'รถผู้บาดเจ็บ':'จักรยานยนต์'},{'รถคู่กรณี':1})]"
      ],
      "metadata": {
        "id": "OzGRD2cFT3zd"
      },
      "execution_count": null,
      "outputs": []
    },
    {
      "cell_type": "markdown",
      "source": [
        "## Regex"
      ],
      "metadata": {
        "id": "jZdVScFdUzpX"
      }
    },
    {
      "cell_type": "markdown",
      "source": [
        "### **Basic Syntax**\n",
        "```python\n",
        "collection.find({\"field\": {\"$regex\": \"pattern\"}})\n",
        "```\n",
        "\n",
        "---\n",
        "\n",
        "### **Examples of Regular Expressions in PyMongo**\n",
        "\n",
        "#### 1. **Match a Substring**\n",
        "Find documents where the field contains the substring \"abc\":\n",
        "```\n",
        "results = collection.find({\"field\": {\"$regex\": \"abc\"}})\n",
        "```\n",
        "\n",
        "#### 2. **Match Beginning of a String**\n",
        "Use `^` to match strings starting with \"abc\":\n",
        "```python\n",
        "results = collection.find({\"field\": {\"$regex\": \"^abc\"}})\n",
        "```\n",
        "\n",
        "#### 3. **Match End of a String**\n",
        "Use `$` to match strings ending with \"xyz\":\n",
        "```python\n",
        "results = collection.find({\"field\": {\"$regex\": \"xyz$\"}})\n",
        "```\n",
        "\n",
        "#### 4. **Match Any Character (Wildcard)**\n",
        "Use `.` to match any single character:\n",
        "```python\n",
        "results = collection.find({\"field\": {\"$regex\": \"a.c\"}})  # Matches \"abc\", \"a_c\", etc.\n",
        "```\n",
        "\n",
        "#### 5. **Match Zero or More Occurrences**\n",
        "Use `*` to match zero or more of the preceding character:\n",
        "```python\n",
        "results = collection.find({\"field\": {\"$regex\": \"a*\"}})  # Matches \"a\", \"aa\", \"\", etc.\n",
        "```\n",
        "\n",
        "#### 6. **Match One or More Occurrences**\n",
        "Use `+` to match one or more of the preceding character:\n",
        "```python\n",
        "results = collection.find({\"field\": {\"$regex\": \"a+\"}})  # Matches \"a\", \"aa\", etc. (but not empty strings)\n",
        "```\n",
        "\n",
        "#### 7. **Match a Range of Characters**\n",
        "Use `[ ]` to define a range:\n",
        "```python\n",
        "results = collection.find({\"field\": {\"$regex\": \"[a-c]\"}})  # Matches \"a\", \"b\", or \"c\"\n",
        "```\n",
        "\n",
        "#### 8. **Exclude Characters**\n",
        "Use `[^ ]` to exclude a range of characters:\n",
        "```python\n",
        "results = collection.find({\"field\": {\"$regex\": \"[^a-c]\"}})  # Matches anything except \"a\", \"b\", or \"c\"\n",
        "```\n",
        "\n"
      ],
      "metadata": {
        "id": "UD9K6zRu8il4"
      }
    },
    {
      "cell_type": "markdown",
      "source": [
        "**`collection.distinct(key, filter=None)`** finds the distinct field values across a subset of documents in a collection\n",
        "\n",
        "*   `key` : name of fieldto find distinct values for\n",
        "*   `filter` : query filter that specifies the documents to retrieve distinct values from\n",
        "\n"
      ],
      "metadata": {
        "id": "Dj6rges0YjQl"
      }
    },
    {
      "cell_type": "code",
      "source": [
        "# Get distinct value for field 'ผลการรักษา' of accident_collection\n"
      ],
      "metadata": {
        "id": "6oyFmbH7hdTl"
      },
      "execution_count": null,
      "outputs": []
    },
    {
      "cell_type": "code",
      "source": [
        "# substring with regex for ผลการรักษา that matches substring ตาย\n",
        "# This give that same result as accident_collection.distinct('ผลการรักษา', filter={\"ผลการรักษา\": {\"$regex\": \"ตาย\"}})\n"
      ],
      "metadata": {
        "id": "zAgb0OGHIi0N"
      },
      "execution_count": null,
      "outputs": []
    },
    {
      "cell_type": "code",
      "source": [
        "[rec for rec in accident_collection.find({'สถานะ':{'$regex': 'ขี่'}}, {'สถานะ':1})]"
      ],
      "metadata": {
        "id": "o1NXE55QH8yJ"
      },
      "execution_count": null,
      "outputs": []
    },
    {
      "cell_type": "code",
      "source": [
        "# finds the distinct field values for 'เวลาเกิดเหตุ'\n"
      ],
      "metadata": {
        "id": "IOBRaHcCifCK"
      },
      "execution_count": null,
      "outputs": []
    },
    {
      "cell_type": "code",
      "source": [
        "# Observe เวลาเกิดเหตุ that starts with 12\n",
        "accident_collection.find({\"เวลาเกิดเหตุ\": {\"$regex\": \"^12\"}}).distinct('เวลาเกิดเหตุ')"
      ],
      "metadata": {
        "id": "1ElwdDpIcRhE"
      },
      "execution_count": null,
      "outputs": []
    },
    {
      "cell_type": "code",
      "source": [
        "# Find number of documents which เวลาเกิดเหตุ that starts with 12\n"
      ],
      "metadata": {
        "id": "-pJXZLZHi8vj"
      },
      "execution_count": null,
      "outputs": []
    },
    {
      "cell_type": "code",
      "source": [
        "# choose documents only from 21, 22, 23, 24 hr\n"
      ],
      "metadata": {
        "id": "EbXvoBwpiXtj"
      },
      "execution_count": null,
      "outputs": []
    },
    {
      "cell_type": "markdown",
      "source": [
        "### Actual Aggragation Function\n",
        "\n",
        "**`collection.aggregate(pipeline)`** performs an aggregation using the aggregation framework on this collection. It processes and transforms data through a series of stages, such as filtering, grouping, sorting, and more, using MongoDB's aggregation pipeline.\n",
        "*   `pipeline` : list of aggregation pipeline stages. Each stage is a dictionary specifying an operation\n",
        "\n",
        "Example of aggregation stages\n",
        "1.   `$match`: Filters documents\n",
        "2.   `$group`: Groups documents by a specified field and performs aggregations like sum, average, etc.\n",
        "3.   `$sort`: Sorts documents.\n",
        "4.   `$limit`: Limits the number of documents."
      ],
      "metadata": {
        "id": "55eQJoV8nKvy"
      }
    },
    {
      "cell_type": "code",
      "source": [
        "# Filter for documents that \"ผลการรักษา\" contains \"ตาย\"\n",
        "# Sum number of documents as count Group by จังหวัด\n",
        "# Sort count in descending order\n",
        "# Limit to 10\n",
        "\n",
        "# results=\n",
        "\n",
        "[rec for rec in results]"
      ],
      "metadata": {
        "id": "OqahCFKRHA4A"
      },
      "execution_count": null,
      "outputs": []
    },
    {
      "cell_type": "code",
      "source": [
        "# Slice the df data frame for rows that \"ผลการรักษา\" contains \"ตาย\"\n",
        "# Group by จังหวัด with count\n",
        "# Sort by ชื่อเทศกาล in descending order\n",
        "# Slice for column 'ชื่อเทศกาล' for 10 rows\n"
      ],
      "metadata": {
        "id": "nvJRfEh2qRUi"
      },
      "execution_count": null,
      "outputs": []
    },
    {
      "cell_type": "markdown",
      "source": [
        "## Full text search"
      ],
      "metadata": {
        "id": "wA1UaVOOtHVg"
      }
    },
    {
      "cell_type": "markdown",
      "source": [
        "**KaggleHub** is a Python package that provides a simple API to access Kaggle resources\n",
        "\n",
        "**`kagglehub.dataset_download(dataset)`** downloads the latest version of Kaggle dataset."
      ],
      "metadata": {
        "id": "EnIdyqLhicsB"
      }
    },
    {
      "cell_type": "code",
      "source": [
        "import kagglehub\n",
        "\n",
        "# Download latest version. See https://www.kaggle.com/datasets/zynicide/wine-reviews\n",
        "path = kagglehub.dataset_download(\"zynicide/wine-reviews\")\n",
        "\n",
        "print(\"Path to dataset files:\", path)"
      ],
      "metadata": {
        "id": "iLLhI8VEtKjg"
      },
      "execution_count": null,
      "outputs": []
    },
    {
      "cell_type": "code",
      "source": [
        "# List the file stored in our colab VM environment\n",
        "! ls -l /root/.cache/kagglehub/datasets/zynicide/wine-reviews/versions/4/"
      ],
      "metadata": {
        "id": "pBsQZ3GltgYZ"
      },
      "execution_count": null,
      "outputs": []
    },
    {
      "cell_type": "code",
      "source": [
        "# Read file winemag-data-130k-v2.csv into DataFrame\n",
        "wine_df=pd.read_csv('/root/.cache/kagglehub/datasets/zynicide/wine-reviews/versions/4/winemag-data-130k-v2.csv')"
      ],
      "metadata": {
        "id": "E0P0AsW1u-m5"
      },
      "execution_count": null,
      "outputs": []
    },
    {
      "cell_type": "code",
      "source": [
        "# Show the DataFrame\n",
        "wine_df"
      ],
      "metadata": {
        "id": "MBB08rXVvBXF"
      },
      "execution_count": null,
      "outputs": []
    },
    {
      "cell_type": "code",
      "source": [
        "# Convert wine_df to dictionary\n",
        "# With orient 'records' the key-value pairs are list like [{column -> value}, … , {column -> value}]\n",
        "# Insert into collection 'winemag-data-130k-v2' of database 'wine_data'\n",
        "\n"
      ],
      "metadata": {
        "id": "xyL5nuPEvZXj"
      },
      "execution_count": null,
      "outputs": []
    },
    {
      "cell_type": "code",
      "source": [
        "# load collection 'winemag-data-130k-v2' of database 'wine_data'\n"
      ],
      "metadata": {
        "id": "rGQv9CcRvqo3"
      },
      "execution_count": null,
      "outputs": []
    },
    {
      "cell_type": "code",
      "source": [
        "# Observe a document\n"
      ],
      "metadata": {
        "id": "xHG4FEC5vtbQ"
      },
      "execution_count": null,
      "outputs": []
    },
    {
      "cell_type": "markdown",
      "source": [
        "**`collection.create_index(keys)`** creates an index on collection.\n",
        "*   `keys` : a key or a list containing (key, direction) pairs or keys. If no direction is given, ASCENDING will be assumed.\n",
        "\n"
      ],
      "metadata": {
        "id": "4ZDnDVFjpJXK"
      }
    },
    {
      "cell_type": "code",
      "source": [
        "# Create index for wine_collection on key 'description' with 'text' direction (text index)\n"
      ],
      "metadata": {
        "id": "msvu4sbawdE3"
      },
      "execution_count": null,
      "outputs": []
    },
    {
      "cell_type": "code",
      "source": [
        "# With text index, perform text search\n",
        "# Use $text operator to search for text in fields that have text index\n",
        "# Use $search operator to give the term to search for\n",
        "import time\n",
        "\n",
        "\n",
        "start_time = time.time()\n",
        "\n",
        "print(f\"Total Execution Time: {time.time()-start_time:.6f} seconds\")\n"
      ],
      "metadata": {
        "id": "p9sSuK-1wowU"
      },
      "execution_count": null,
      "outputs": []
    },
    {
      "cell_type": "code",
      "source": [
        "# When text index is not used\n",
        "# Perform regex search on \"description\"\n",
        "# Query for all documents where \"description\" contains substring \"fruity\"\n",
        "\n",
        "\n",
        "start_time = time.time()\n",
        "\n",
        "print(f\"Total Execution Time: {time.time()-start_time:.6f} seconds\")\n"
      ],
      "metadata": {
        "id": "20bTZWwvznlt"
      },
      "execution_count": null,
      "outputs": []
    }
  ]
}