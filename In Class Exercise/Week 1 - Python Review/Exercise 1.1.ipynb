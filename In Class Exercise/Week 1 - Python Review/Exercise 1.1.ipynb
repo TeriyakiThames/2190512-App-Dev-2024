{
  "nbformat": 4,
  "nbformat_minor": 0,
  "metadata": {
    "colab": {
      "provenance": []
    },
    "kernelspec": {
      "name": "python3",
      "display_name": "Python 3"
    },
    "language_info": {
      "name": "python"
    }
  },
  "cells": [
    {
      "cell_type": "markdown",
      "source": [
        "## Introduction\n",
        "In this Python review session, we will focus on Python's data collection types, including lists, dictionaries, tuples, and sets. Additionally, we will explore practical applications of Python in real-world scenarios through engaging activities. To begin, we will start with a simple exercise that covers lists, list comprehensions, and dictionaries."
      ],
      "metadata": {
        "id": "JqkfpScUO26w"
      }
    },
    {
      "cell_type": "markdown",
      "source": [
        "### Exercise 1\n",
        "\n",
        "You are given the following list of books:\n",
        "\n",
        "```\n",
        "books = [\n",
        "    {\"title\": \"The Great Gatsby\", \"author\": \"F. Scott Fitzgerald\", \"price\": 10.99, \"in_stock\": True},\n",
        "    {\"title\": \"1984\", \"author\": \"George Orwell\", \"price\": 8.99, \"in_stock\": False},\n",
        "    {\"title\": \"To Kill a Mockingbird\", \"author\": \"Harper Lee\", \"price\": 12.99, \"in_stock\": True},\n",
        "    {\"title\": \"Moby-Dick\", \"author\": \"Herman Melville\", \"price\": 15.50, \"in_stock\": True},\n",
        "    {\"title\": \"War and Peace\", \"author\": \"Leo Tolstoy\", \"price\": 20.00, \"in_stock\": False},\n",
        "]\n",
        "```\n",
        "Write two functions:\n",
        "\n",
        "1. `find_books_by_keyword(books, keyword)`: Returns books whose titles exactly match the given keyword (case-insensitive). Substring matches (e.g., \"pea\" for \"War and Peace\") should be excluded.\n",
        "2. `sort_books_by_price(books)`: Returns the list of books sorted by price in descending order.\n",
        "\n",
        "**Remark**: Both functions should return a list of dictionaries representing book data (in the same format as the `books` variable)."
      ],
      "metadata": {
        "id": "B0JP0cG3Pufv"
      }
    },
    {
      "cell_type": "markdown",
      "source": [
        "### Exercise 2\n",
        "\n",
        "[Link to Weather API Explanation](https://colab.research.google.com/drive/1DcOG4y-jDjNz34L3uAj_kzwj7rX3E3UB?usp=sharing)"
      ],
      "metadata": {
        "id": "f94EpDNAY3Fs"
      }
    },
    {
      "cell_type": "code",
      "execution_count": null,
      "metadata": {
        "id": "pg6ZiZWoOtSj"
      },
      "outputs": [],
      "source": []
    }
  ]
}