{
  "nbformat": 4,
  "nbformat_minor": 0,
  "metadata": {
    "colab": {
      "provenance": []
    },
    "kernelspec": {
      "name": "python3",
      "display_name": "Python 3"
    },
    "language_info": {
      "name": "python"
    }
  },
  "cells": [
    {
      "cell_type": "markdown",
      "source": [
        "# MySQL Installation"
      ],
      "metadata": {
        "id": "k36NcfjR5mhu"
      }
    },
    {
      "cell_type": "code",
      "execution_count": null,
      "metadata": {
        "id": "djuls_XZxe-2"
      },
      "outputs": [],
      "source": [
        "! sudo apt install mysql-server"
      ]
    },
    {
      "cell_type": "code",
      "source": [
        "! service mysql status"
      ],
      "metadata": {
        "id": "dcVZMQkQ4krW"
      },
      "execution_count": null,
      "outputs": []
    },
    {
      "cell_type": "code",
      "source": [
        "! /etc/init.d/mysql start"
      ],
      "metadata": {
        "id": "t03bdfvy5EhR"
      },
      "execution_count": null,
      "outputs": []
    },
    {
      "cell_type": "code",
      "source": [
        "! mysql -e \"ALTER USER 'root'@'localhost' IDENTIFIED WITH mysql_native_password BY '8OQsfBWBP4'; FLUSH PRIVILEGES;\""
      ],
      "metadata": {
        "id": "swS3pw9X5rMs"
      },
      "execution_count": null,
      "outputs": []
    },
    {
      "cell_type": "code",
      "source": [
        "!mysql -u root -p8OQsfBWBP4 -e \"CREATE USER 'test_user'@'localhost' IDENTIFIED BY 'test_p@ssw0rd';\"\n",
        "!mysql -u root -p8OQsfBWBP4 -e \"GRANT ALL PRIVILEGES ON *.* TO 'test_user'@'localhost';\"\n",
        "!mysql -u root -p8OQsfBWBP4 -e \"FLUSH PRIVILEGES;\""
      ],
      "metadata": {
        "id": "fW61H-ix6O1o"
      },
      "execution_count": null,
      "outputs": []
    },
    {
      "cell_type": "code",
      "source": [
        "!pip install mysql-connector-python"
      ],
      "metadata": {
        "id": "q5QfnPOB3ulv"
      },
      "execution_count": null,
      "outputs": []
    },
    {
      "cell_type": "markdown",
      "source": [
        "## MongoDB Installation"
      ],
      "metadata": {
        "id": "nxw48rJ3pb33"
      }
    },
    {
      "cell_type": "code",
      "source": [
        "! cat /etc/lsb-release"
      ],
      "metadata": {
        "id": "4zNnINnxm-Uy"
      },
      "execution_count": null,
      "outputs": []
    },
    {
      "cell_type": "code",
      "execution_count": null,
      "metadata": {
        "id": "c9VBLmHRmZ_i"
      },
      "outputs": [],
      "source": [
        "! curl -fsSL https://www.mongodb.org/static/pgp/server-8.0.asc | \\\n",
        "   sudo gpg -o /usr/share/keyrings/mongodb-server-8.0.gpg \\\n",
        "   --dearmor"
      ]
    },
    {
      "cell_type": "code",
      "source": [
        "! echo \"deb [ arch=amd64,arm64 signed-by=/usr/share/keyrings/mongodb-server-8.0.gpg ] https://repo.mongodb.org/apt/ubuntu jammy/mongodb-org/8.0 multiverse\" | sudo tee /etc/apt/sources.list.d/mongodb-org-8.0.list"
      ],
      "metadata": {
        "id": "w0Ws7eQvmx2H"
      },
      "execution_count": null,
      "outputs": []
    },
    {
      "cell_type": "code",
      "source": [
        "! sudo apt-get update"
      ],
      "metadata": {
        "id": "HtIK79DqnHuR"
      },
      "execution_count": null,
      "outputs": []
    },
    {
      "cell_type": "code",
      "source": [
        "! sudo apt-get install -y mongodb-org\n"
      ],
      "metadata": {
        "id": "V0ynuZHMnK6X"
      },
      "execution_count": null,
      "outputs": []
    },
    {
      "cell_type": "code",
      "source": [
        "!mkdir -p /data/db\n",
        "!sudo chown -R mongodb:mongodb /data/db"
      ],
      "metadata": {
        "id": "WIMqBYkOnYGC"
      },
      "execution_count": null,
      "outputs": []
    },
    {
      "cell_type": "code",
      "source": [
        "!mongod --dbpath /data/db --bind_ip 127.0.0.1 --logpath /data/db/mongod.log --fork"
      ],
      "metadata": {
        "id": "wgdCwaYeoFOV"
      },
      "execution_count": null,
      "outputs": []
    },
    {
      "cell_type": "code",
      "source": [
        "!tail /data/db/mongod.log"
      ],
      "metadata": {
        "id": "NB6PwD8DoKJX"
      },
      "execution_count": null,
      "outputs": []
    },
    {
      "cell_type": "code",
      "source": [
        "!pip install pymongo"
      ],
      "metadata": {
        "id": "u4WkzylxoTF3"
      },
      "execution_count": null,
      "outputs": []
    },
    {
      "cell_type": "markdown",
      "source": [
        "## app.py\n",
        "\n",
        "In python virtual environment, enter python prompt:\n",
        "```\n",
        "python\n",
        "```\n",
        "Then, run the following python code."
      ],
      "metadata": {
        "id": "9epGgsmUfeY4"
      }
    },
    {
      "cell_type": "code",
      "source": [
        "s='''import mysql.connector\n",
        "from flask import Flask, request, jsonify\n",
        "from pymongo import MongoClient\n",
        "from datetime import datetime\n",
        "\n",
        "app = Flask(__name__)\n",
        "\n",
        "\n",
        "\n",
        "mongo_client = MongoClient('mongodb://localhost:27017/')\n",
        "mongo_db = mongo_client['weather_forecast']  # Replace with your database name\n",
        "mongo_collection = mongo_db['weather_data']\n",
        "\n",
        "# Database configurations\n",
        "mysql_config = {\n",
        "    'user': 'test_user',\n",
        "    'password': 'test_p@ssw0rd',\n",
        "    'host': '127.0.0.1'\n",
        "}\n",
        "\n",
        "# Create MySQL table\n",
        "mydb = mysql.connector.connect(**mysql_config)\n",
        "mycursor = mydb.cursor()\n",
        "mycursor.execute(\"CREATE DATABASE IF NOT EXISTS weather_forecast\")\n",
        "mycursor.close()\n",
        "mydb.close()\n",
        "\n",
        "mysql_config = {\n",
        "    'user': 'test_user',\n",
        "    'password': 'test_p@ssw0rd',\n",
        "    'host': '127.0.0.1',\n",
        "    'database': 'weather_forecast'  # Replace with your database name\n",
        "}\n",
        "mydb = mysql.connector.connect(**mysql_config)\n",
        "mycursor = mydb.cursor()\n",
        "mycursor.execute(\"CREATE TABLE IF NOT EXISTS weather_data (time VARCHAR(12), temp2m FLOAT, precipitation FLOAT)\")\n",
        "mydb.commit()\n",
        "mycursor.close()\n",
        "mydb.close()\n",
        "\n",
        "@app.route('/')\n",
        "def hello_world():\n",
        "    return 'I am running!'\n",
        "\n",
        "@app.route('/weather', methods=['POST'])\n",
        "def insert_weather_data():\n",
        "    data = request.get_json()\n",
        "    mydb = mysql.connector.connect(**mysql_config)\n",
        "    mycursor = mydb.cursor()\n",
        "    for item in data:\n",
        "        time = item['time']\n",
        "        temp2m = item['temp2m']\n",
        "        precipitation = item['precipitation']\n",
        "        sql = \"INSERT INTO weather_data (time, temp2m, precipitation) VALUES (%s, %s, %s)\"\n",
        "        val = (time, temp2m, precipitation)\n",
        "        mycursor.execute(sql, val)\n",
        "        mongo_collection.insert_one(item)\n",
        "    mydb.commit()\n",
        "    mycursor.close()\n",
        "    mydb.close()\n",
        "    return jsonify({'message': 'Data inserted successfully'}), 201\n",
        "\n",
        "@app.route('/weather/<datetime_str>/<dbname>', methods=['GET'])\n",
        "def get_weather_data(datetime_str, dbname):\n",
        "\n",
        "    try:\n",
        "      dt = datetime.strptime(datetime_str, \"%Y-%m-%d-%H\")\n",
        "    except:\n",
        "      return jsonify({\"error\":\"datetime format error\"}), 400\n",
        "\n",
        "\n",
        "    if dbname.lower() == \"mongodb\":\n",
        "        data = mongo_collection.find_one({\"time\":datetime_str})\n",
        "        return jsonify(data) if data else jsonify({\"message\": \"No data found\"}), 200\n",
        "    elif dbname.lower() == \"mysql\":\n",
        "        mydb = mysql.connector.connect(**mysql_config)\n",
        "        mycursor = mydb.cursor(dictionary=True)\n",
        "\n",
        "        mycursor.execute(f\"SELECT * FROM weather_data WHERE time = '{datetime_str}'\")\n",
        "        data = mycursor.fetchall()\n",
        "\n",
        "        mycursor.close()\n",
        "        mydb.close()\n",
        "        return jsonify(data) if data else jsonify({\"message\": \"No data found\"}), 200\n",
        "    else:\n",
        "        return jsonify({\"error\": \"Invalid dbname\"}), 400\n",
        "\n",
        "@app.route('/weather/all/<dbname>', methods=['GET'])\n",
        "def get_all_weather_data(dbname):\n",
        "    if dbname.lower() == \"mongodb\":\n",
        "        data = list(mongo_collection.find({}, {\"_id\": 0}))  # Exclude _id for clean JSON\n",
        "        return jsonify(data) if data else jsonify({\"message\": \"No data found\"}), 200\n",
        "    elif dbname.lower() == \"mysql\":\n",
        "        mydb = mysql.connector.connect(**mysql_config)\n",
        "        mycursor = mydb.cursor(dictionary=True)\n",
        "\n",
        "        mycursor.execute(\"SELECT * FROM weather_data\")\n",
        "        data = mycursor.fetchall()\n",
        "\n",
        "        mycursor.close()\n",
        "        mydb.close()\n",
        "        return jsonify(data) if data else jsonify({\"message\": \"No data found\"}), 200\n",
        "    else:\n",
        "        return jsonify({\"error\": \"Invalid dbname\"}), 400\n",
        "\n",
        "if __name__ == '__main__':\n",
        "    app.run(debug=True, host='0.0.0.0', port=5000)\n",
        "'''\n",
        "with open('app.py','w') as f:\n",
        "  f.write(s)"
      ],
      "metadata": {
        "id": "5ZHnpneydpas"
      },
      "execution_count": null,
      "outputs": []
    },
    {
      "cell_type": "code",
      "source": [],
      "metadata": {
        "id": "tsBLHHYNXLeU"
      },
      "execution_count": null,
      "outputs": []
    },
    {
      "cell_type": "markdown",
      "source": [
        "Exit python prompt.\n",
        "Run flask as a background process and observe the process ID.\n",
        "\n",
        "*   `nohup` to ignore the hang-up signal\n",
        "*   `> output.log` to redirect standard output to `output.log`\n",
        "*   `2>&1` to redirect stderror to same location as standard output\n",
        "*   `&` to run in the background\n",
        "\n",
        "\n",
        "\n"
      ],
      "metadata": {
        "id": "nXekcyHbjdva"
      }
    },
    {
      "cell_type": "code",
      "source": [
        "!nohup python3 app.py > output.log 2>&1 &"
      ],
      "metadata": {
        "id": "HdFVBvpeiK9b"
      },
      "execution_count": null,
      "outputs": []
    },
    {
      "cell_type": "markdown",
      "source": [
        "Use `ps aux` to give process status (ps) of all (a) running processes in user-oriented format (u), including background processes not attached to a terminal (x)."
      ],
      "metadata": {
        "id": "uhcmZ0UUytZ3"
      }
    },
    {
      "cell_type": "code",
      "source": [
        "!ps aux | grep app.py"
      ],
      "metadata": {
        "id": "QoVrPP5YrHa-"
      },
      "execution_count": null,
      "outputs": []
    },
    {
      "cell_type": "code",
      "source": [
        "!ps -u root"
      ],
      "metadata": {
        "colab": {
          "base_uri": "https://localhost:8080/"
        },
        "id": "_cBRui-LQzAM",
        "outputId": "d3615754-5a7e-4386-ab66-f79a9a64c34e"
      },
      "execution_count": null,
      "outputs": [
        {
          "output_type": "stream",
          "name": "stdout",
          "text": [
            "    PID TTY          TIME CMD\n",
            "      1 ?        00:00:00 docker-init\n",
            "      7 ?        00:00:05 node\n",
            "     19 ?        00:00:00 oom_monitor.sh\n",
            "     21 ?        00:00:00 run.sh\n",
            "     24 ?        00:00:01 kernel_manager_\n",
            "     27 ?        00:00:00 tail\n",
            "     33 ?        00:00:00 tail\n",
            "     71 ?        00:00:20 python3 <defunct>\n",
            "     72 ?        00:00:01 colab-fileshim.\n",
            "     92 ?        00:00:06 jupyter-noteboo\n",
            "     93 ?        00:00:01 dap_multiplexer\n",
            "    293 ?        00:00:13 python3\n",
            "    325 ?        00:00:04 python3\n",
            "   2521 ?        00:00:10 mongod\n",
            "   2628 ?        00:00:00 language_servic\n",
            "   2635 ?        00:00:43 node\n",
            "   7735 ?        00:00:00 python3\n",
            "   7745 ?        00:00:00 python3\n",
            "   7763 ?        00:00:00 sleep\n",
            "   7764 ?        00:00:00 ps\n"
          ]
        }
      ]
    },
    {
      "cell_type": "markdown",
      "source": [
        "Check IP address of the VM."
      ],
      "metadata": {
        "id": "bSpA8YV8rdCT"
      }
    },
    {
      "cell_type": "code",
      "source": [
        "! ip a"
      ],
      "metadata": {
        "id": "AguPi75tjMFW"
      },
      "execution_count": null,
      "outputs": []
    },
    {
      "cell_type": "markdown",
      "source": [
        "In python prompt of the python virtual environment, create a python code to connect to Flask endpoint at its own IP address.\n",
        "*   Change the IP address to the VM's IP address"
      ],
      "metadata": {
        "id": "xfBzmvORr4pq"
      }
    },
    {
      "cell_type": "markdown",
      "source": [
        "![flask connect.png](data:image/png;base64,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)"
      ],
      "metadata": {
        "id": "lc8vvMILtz4w"
      }
    },
    {
      "cell_type": "code",
      "source": [
        "import requests\n",
        "\n",
        "ret=requests.get('http://172.20.10.3:5000/')"
      ],
      "metadata": {
        "id": "RMXRJYeRiNan"
      },
      "execution_count": null,
      "outputs": []
    },
    {
      "cell_type": "code",
      "source": [
        "ret.text"
      ],
      "metadata": {
        "id": "MoRGT75blPIZ"
      },
      "execution_count": null,
      "outputs": []
    },
    {
      "cell_type": "markdown",
      "source": [
        "### Insert data"
      ],
      "metadata": {
        "id": "4zt62jyBRXOp"
      }
    },
    {
      "cell_type": "markdown",
      "source": [
        "### Clear all databases\n",
        "In python virtual environment, enter python prompt:\n",
        "```\n",
        "python\n",
        "```\n",
        "\n"
      ],
      "metadata": {
        "id": "gRwKcmJUUi2q"
      }
    },
    {
      "cell_type": "markdown",
      "source": [
        "Use the following code to clear the database."
      ],
      "metadata": {
        "id": "Z5goW69JxBxK"
      }
    },
    {
      "cell_type": "code",
      "source": [
        "from pymongo import MongoClient\n",
        "import mysql.connector\n",
        "\n",
        "mongo_client = MongoClient('mongodb://localhost:27017/')\n",
        "mongo_db = mongo_client['weather_forecast']  # Replace with your database name\n",
        "mongo_collection = mongo_db['weather_data']\n",
        "mongo_collection.delete_many({})\n",
        "\n",
        "mysql_config = {\n",
        "    'user': 'test_user',\n",
        "    'password': 'test_p@ssw0rd',\n",
        "    'host': '127.0.0.1',\n",
        "    'database': 'weather_forecast'\n",
        "}\n",
        "\n",
        "# Create MySQL table\n",
        "mydb = mysql.connector.connect(**mysql_config)\n",
        "mycursor = mydb.cursor()\n",
        "mycursor.execute(\"DROP TABLE IF EXISTS weather_data;\")\n",
        "mycursor.execute(\"CREATE TABLE IF NOT EXISTS weather_data (time VARCHAR(13), temp2m FLOAT, precipitation FLOAT)\")\n",
        "mydb.commit()\n",
        "mycursor.close()\n",
        "mydb.close()"
      ],
      "metadata": {
        "id": "M3WrPfFLTf6M"
      },
      "execution_count": null,
      "outputs": []
    },
    {
      "cell_type": "markdown",
      "source": [
        "Exit the python prompt:\n",
        "```\n",
        "exit()\n",
        "```\n",
        "Then, check database with the following command.\n"
      ],
      "metadata": {
        "id": "Knf3RNtSxIuk"
      }
    },
    {
      "cell_type": "code",
      "source": [
        "! mysql -u test_user -ptest_p@ssw0rd weather_forecast -e 'SHOW PROCESSLIST;'"
      ],
      "metadata": {
        "colab": {
          "base_uri": "https://localhost:8080/"
        },
        "id": "v2Xd6gdDcYgg",
        "outputId": "bf253748-f0b1-4af1-fbd1-f1ffeeca1d37"
      },
      "execution_count": null,
      "outputs": [
        {
          "output_type": "stream",
          "name": "stdout",
          "text": [
            "mysql: [Warning] Using a password on the command line interface can be insecure.\n",
            "+----+-----------------+-----------+------------------+---------+------+------------------------+------------------+\n",
            "| Id | User            | Host      | db               | Command | Time | State                  | Info             |\n",
            "+----+-----------------+-----------+------------------+---------+------+------------------------+------------------+\n",
            "|  5 | event_scheduler | localhost | NULL             | Daemon  | 1508 | Waiting on empty queue | NULL             |\n",
            "| 47 | test_user       | localhost | weather_forecast | Query   |    0 | init                   | SHOW PROCESSLIST |\n",
            "+----+-----------------+-----------+------------------+---------+------+------------------------+------------------+\n"
          ]
        }
      ]
    },
    {
      "cell_type": "code",
      "source": [
        "! mysql -u test_user -ptest_p@ssw0rd weather_forecast -e 'SELECT * FROM weather_data  WHERE time=\"2025-02-24-21\";'"
      ],
      "metadata": {
        "colab": {
          "base_uri": "https://localhost:8080/"
        },
        "id": "hA34U6LCWVIZ",
        "outputId": "f1e8d4e8-ba89-4229-df12-a2f380474348"
      },
      "execution_count": null,
      "outputs": [
        {
          "output_type": "stream",
          "name": "stdout",
          "text": [
            "mysql: [Warning] Using a password on the command line interface can be insecure.\n"
          ]
        }
      ]
    },
    {
      "cell_type": "markdown",
      "source": [
        "In python virtual environment, enter python prompt:\n",
        "```\n",
        "python\n",
        "```"
      ],
      "metadata": {
        "id": "2x0RYNIHxU33"
      }
    },
    {
      "cell_type": "markdown",
      "source": [
        "Run the following code to insert weather data."
      ],
      "metadata": {
        "id": "CwR3mdUjxb2Q"
      }
    },
    {
      "cell_type": "code",
      "source": [
        "import requests\n",
        "import json\n",
        "from datetime import datetime\n",
        "\n",
        "# Define the Flask API endpoint (Replace with your actual Flask server address)\n",
        "FLASK_URL = \"http://172.20.10.3:5000/weather\"  # Change this if using ngrok or a remote server\n",
        "\n",
        "# Example weather data to send\n",
        "weather_data = [\n",
        "    {\n",
        "        \"time\": datetime.strftime(datetime.now(),'2025-02-24-21'),\n",
        "        \"temp2m\": 25.6,\n",
        "        \"precipitation\": 0.2\n",
        "    },\n",
        "    {\n",
        "        \"time\": datetime.strftime(datetime.now(),'2025-02-24-22'),\n",
        "        \"temp2m\": 26.1,\n",
        "        \"precipitation\": 0.0\n",
        "    }\n",
        "]\n",
        "\n",
        "# Send POST request with JSON data\n",
        "headers = {\"Content-Type\": \"application/json\"}\n",
        "response = requests.post(FLASK_URL, data=json.dumps(weather_data), headers=headers)\n",
        "\n",
        "# Print the response from the server\n",
        "print(response.status_code, response.json())\n"
      ],
      "metadata": {
        "colab": {
          "base_uri": "https://localhost:8080/"
        },
        "id": "CthuLAR5M33m",
        "outputId": "7988141a-ed12-4b0b-e35c-6f3a3513dea0"
      },
      "execution_count": null,
      "outputs": [
        {
          "output_type": "stream",
          "name": "stdout",
          "text": [
            "201 {'message': 'Data inserted successfully'}\n"
          ]
        }
      ]
    },
    {
      "cell_type": "markdown",
      "source": [
        "Run the following code to call Flask API endpoint to query the data."
      ],
      "metadata": {
        "id": "QWqofVrnxh4e"
      }
    },
    {
      "cell_type": "code",
      "source": [
        "import requests\n",
        "\n",
        "dbname = \"mongodb\"  # Change to \"mysql\" if needed\n",
        "url = f\"http://172.20.10.3:5000/weather/all/{dbname}\"\n",
        "\n",
        "response = requests.get(url)\n",
        "\n",
        "if response.status_code == 200:\n",
        "    data = response.json()\n",
        "    print(\"Weather Data:\")\n",
        "    for entry in data:\n",
        "        print(entry)\n",
        "else:\n",
        "    print(f\"Error: {response.json()}\")\n"
      ],
      "metadata": {
        "colab": {
          "base_uri": "https://localhost:8080/"
        },
        "id": "XO7VOhSYRfZH",
        "outputId": "fa140f27-e346-47de-a485-0710df440f6f"
      },
      "execution_count": null,
      "outputs": [
        {
          "output_type": "stream",
          "name": "stdout",
          "text": [
            "Weather Data:\n",
            "{'precipitation': 0.2, 'temp2m': 25.6, 'time': '2025-02-24-21'}\n",
            "{'precipitation': 0.0, 'temp2m': 26.1, 'time': '2025-02-24-22'}\n"
          ]
        }
      ]
    },
    {
      "cell_type": "markdown",
      "source": [
        "Run the following code to call Flask API endpoint with path parameter to query the data."
      ],
      "metadata": {
        "id": "nStDKwIcxv7r"
      }
    },
    {
      "cell_type": "code",
      "source": [
        "import requests\n",
        "\n",
        "dbname = \"mysql\"  # Change to \"mysql\" if needed\n",
        "url = f\"http://172.20.10.3:5000/weather/2025-02-24-21/{dbname}\"\n",
        "\n",
        "response = requests.get(url)\n",
        "\n",
        "if response.status_code == 200:\n",
        "    data = response.json()\n",
        "    print(\"Weather Data:\")\n",
        "    for entry in data:\n",
        "        print(entry)\n",
        "else:\n",
        "    print(f\"Error: {response.json()}\")\n"
      ],
      "metadata": {
        "colab": {
          "base_uri": "https://localhost:8080/"
        },
        "id": "iJPomUm1SdVC",
        "outputId": "0ea59e15-153f-4e65-f8b8-18634be14831"
      },
      "execution_count": null,
      "outputs": [
        {
          "output_type": "stream",
          "name": "stdout",
          "text": [
            "Weather Data:\n",
            "{'precipitation': 0.2, 'temp2m': 25.6, 'time': '2025-02-24-21'}\n"
          ]
        }
      ]
    },
    {
      "cell_type": "markdown",
      "source": [
        "Use `kill -9 PID` to forcefully (-9) terminate the process of given PID"
      ],
      "metadata": {
        "id": "nGJeSsWPzdNL"
      }
    },
    {
      "cell_type": "code",
      "source": [
        "! sudo kill -9 4334"
      ],
      "metadata": {
        "id": "KozGgfR2zSxS"
      },
      "execution_count": null,
      "outputs": []
    }
  ]
}