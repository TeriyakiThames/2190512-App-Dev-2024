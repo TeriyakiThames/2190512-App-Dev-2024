{
  "nbformat": 4,
  "nbformat_minor": 0,
  "metadata": {
    "colab": {
      "provenance": []
    },
    "kernelspec": {
      "name": "python3",
      "display_name": "Python 3"
    },
    "language_info": {
      "name": "python"
    }
  },
  "cells": [
    {
      "cell_type": "markdown",
      "source": [
        "## Introduction\n",
        "In this Python review session, we will focus on Python's data collection types, including lists, dictionaries, tuples, and sets. Additionally, we will explore practical applications of Python in real-world scenarios through engaging activities. To begin, we will start with a simple exercise that covers lists, list comprehensions, and dictionaries."
      ],
      "metadata": {
        "id": "JqkfpScUO26w"
      }
    },
    {
      "cell_type": "markdown",
      "source": [
        "### Exercise 1\n",
        "\n",
        "You are given the following list of books:\n",
        "\n",
        "```\n",
        "books = [\n",
        "    {\"title\": \"The Great Gatsby\", \"author\": \"F. Scott Fitzgerald\", \"price\": 10.99, \"in_stock\": True},\n",
        "    {\"title\": \"1984\", \"author\": \"George Orwell\", \"price\": 8.99, \"in_stock\": False},\n",
        "    {\"title\": \"To Kill a Mockingbird\", \"author\": \"Harper Lee\", \"price\": 12.99, \"in_stock\": True},\n",
        "    {\"title\": \"Moby-Dick\", \"author\": \"Herman Melville\", \"price\": 15.50, \"in_stock\": True},\n",
        "    {\"title\": \"War and Peace\", \"author\": \"Leo Tolstoy\", \"price\": 20.00, \"in_stock\": False},\n",
        "]\n",
        "```\n",
        "Write two functions:\n",
        "\n",
        "1. `find_books_by_keyword(books, keyword)`: Returns books whose titles exactly match the given keyword (case-insensitive). Substring matches (e.g., \"pea\" for \"War and Peace\") should be excluded.\n",
        "2. `sort_books_by_price(books)`: Returns the list of books sorted by price in descending order.\n",
        "\n",
        "**Remark**: Both functions should return a list of dictionaries representing book data (in the same format as the `books` variable)."
      ],
      "metadata": {
        "id": "B0JP0cG3Pufv"
      }
    },
    {
      "cell_type": "code",
      "execution_count": 7,
      "metadata": {
        "id": "pg6ZiZWoOtSj",
        "outputId": "681e65df-626e-447d-83ce-764d16afa5c8",
        "colab": {
          "base_uri": "https://localhost:8080/"
        }
      },
      "outputs": [
        {
          "output_type": "stream",
          "name": "stdout",
          "text": [
            "Function 1: Find Books by Keywords\n",
            "Input keyword please:\n",
            "The Great Gatsby\n",
            "[{'title': 'The Great Gatsby', 'author': 'F. Scott Fitzgerald', 'price': 10.99, 'in_stock': True}]\n",
            "\n",
            "Function 2: Sort Books by Price\n",
            "[{'title': 'War and Peace', 'author': 'Leo Tolstoy', 'price': 20.0, 'in_stock': False}, {'title': 'Moby-Dick', 'author': 'Herman Melville', 'price': 15.5, 'in_stock': True}, {'title': 'To Kill a Mockingbird', 'author': 'Harper Lee', 'price': 12.99, 'in_stock': True}, {'title': 'The Great Gatsby', 'author': 'F. Scott Fitzgerald', 'price': 10.99, 'in_stock': True}, {'title': '1984', 'author': 'George Orwell', 'price': 8.99, 'in_stock': False}]\n"
          ]
        }
      ],
      "source": [
        "books = [\n",
        "    {\"title\": \"The Great Gatsby\", \"author\": \"F. Scott Fitzgerald\", \"price\": 10.99, \"in_stock\": True},\n",
        "    {\"title\": \"1984\", \"author\": \"George Orwell\", \"price\": 8.99, \"in_stock\": False},\n",
        "    {\"title\": \"To Kill a Mockingbird\", \"author\": \"Harper Lee\", \"price\": 12.99, \"in_stock\": True},\n",
        "    {\"title\": \"Moby-Dick\", \"author\": \"Herman Melville\", \"price\": 15.50, \"in_stock\": True},\n",
        "    {\"title\": \"War and Peace\", \"author\": \"Leo Tolstoy\", \"price\": 20.00, \"in_stock\": False},\n",
        "]\n",
        "\n",
        "# Returns books whose titles exactly match the given keyword (case-insensitive). Substring matches (e.g., \"pea\" for \"War and Peace\") should be excluded.\n",
        "def find_books_by_keyword(books, keyword):\n",
        "  result = [book for book in books if book[\"title\"].lower() == keyword.lower()]\n",
        "  return result if result else \"No titles matches your keyword.\"\n",
        "\n",
        "# Returns the list of books sorted by price in descending order.\n",
        "def sort_books_by_price(books):\n",
        "  return sorted(books, key=lambda book: book[\"price\"], reverse=True)\n",
        "\n",
        "# Remark: Both functions should return a list of dictionaries representing book data (in the same format as the books variable).\n",
        "def main(books):\n",
        "  print(\"Function 1: Find Books by Keywords\")\n",
        "  print(find_books_by_keyword(books, input(\"Input keyword please:\\n\").strip().lower()))\n",
        "\n",
        "  print(\"\\nFunction 2: Sort Books by Price\")\n",
        "  print(sort_books_by_price(books))\n",
        "\n",
        "main(books)"
      ]
    }
  ]
}