{
  "nbformat": 4,
  "nbformat_minor": 0,
  "metadata": {
    "colab": {
      "provenance": []
    },
    "kernelspec": {
      "name": "python3",
      "display_name": "Python 3"
    },
    "language_info": {
      "name": "python"
    }
  },
  "cells": [
    {
      "cell_type": "markdown",
      "source": [
        "# SQL Join"
      ],
      "metadata": {
        "id": "cMiOXQ1zAsi7"
      }
    },
    {
      "cell_type": "markdown",
      "source": [
        "# Video Link:\n",
        "https://www.youtube.com/playlist?list=PLwnUv3sNB6_UN6vcOAWMklILhtQa7mGZh"
      ],
      "metadata": {
        "id": "patWfnZP_Uqe"
      }
    },
    {
      "cell_type": "markdown",
      "source": [
        "## Installation\n",
        "\n",
        "*   Install MySQL Server package\n",
        "*   Start MySQL database server\n",
        "\n"
      ],
      "metadata": {
        "id": "Ei8o1ncaA9pN"
      }
    },
    {
      "cell_type": "code",
      "execution_count": 1,
      "metadata": {
        "id": "9WV-ekuHAoOB"
      },
      "outputs": [],
      "source": [
        "%%capture\n",
        "! sudo apt install mysql-server"
      ]
    },
    {
      "cell_type": "code",
      "source": [
        "! /etc/init.d/mysql start"
      ],
      "metadata": {
        "id": "3B_JoW2EBC2Q",
        "colab": {
          "base_uri": "https://localhost:8080/"
        },
        "outputId": "cfdf182b-8300-4b78-8400-975fb094db52"
      },
      "execution_count": 2,
      "outputs": [
        {
          "output_type": "stream",
          "name": "stdout",
          "text": [
            " * Starting MySQL database server mysqld\n",
            "   ...done.\n"
          ]
        }
      ]
    },
    {
      "cell_type": "markdown",
      "source": [
        "## Create a test user\n",
        "\n",
        "*   After the installation completed, you can change the root's password\n",
        "*   Create user `test_user` for logging in from `localhost`, with password `test_p@ssw0rd`\n",
        "*   Grant all permissions on any table in any database to user `test_user` for logging in from `localhost`\n",
        "*   Apply changes on privileges\n",
        "\n"
      ],
      "metadata": {
        "id": "bYh8PZu-Clib"
      }
    },
    {
      "cell_type": "code",
      "source": [
        "! mysql -e \"ALTER USER 'root'@'localhost' IDENTIFIED WITH mysql_native_password BY '8OQsfBWBP4'; FLUSH PRIVILEGES;\""
      ],
      "metadata": {
        "id": "5MsLAETZCkEw",
        "colab": {
          "base_uri": "https://localhost:8080/"
        },
        "outputId": "82d8456f-7d39-456b-a1fc-62851deab9ab"
      },
      "execution_count": 3,
      "outputs": [
        {
          "output_type": "stream",
          "name": "stdout",
          "text": [
            "ERROR 1045 (28000): Access denied for user 'root'@'localhost' (using password: NO)\n"
          ]
        }
      ]
    },
    {
      "cell_type": "code",
      "source": [
        "! mysql -u root -p8OQsfBWBP4 -e \"CREATE USER 'test_user'@'localhost' IDENTIFIED BY 'test_p@ssw0rd';\"\n",
        "! mysql -u root -p8OQsfBWBP4 -e \"GRANT ALL PRIVILEGES ON *.* TO 'test_user'@'localhost';\"\n",
        "! mysql -u root -p8OQsfBWBP4 -e \"FLUSH PRIVILEGES;\""
      ],
      "metadata": {
        "id": "k4zjE21vCtRk",
        "colab": {
          "base_uri": "https://localhost:8080/"
        },
        "outputId": "370d84cf-6580-4d4b-e4dd-42cf0cc09a41"
      },
      "execution_count": 4,
      "outputs": [
        {
          "output_type": "stream",
          "name": "stdout",
          "text": [
            "mysql: [Warning] Using a password on the command line interface can be insecure.\n",
            "ERROR 1396 (HY000) at line 1: Operation CREATE USER failed for 'test_user'@'localhost'\n",
            "mysql: [Warning] Using a password on the command line interface can be insecure.\n",
            "mysql: [Warning] Using a password on the command line interface can be insecure.\n"
          ]
        }
      ]
    },
    {
      "cell_type": "markdown",
      "source": [
        "## Create database and tables\n",
        "\n",
        "*   Use `mysql-connector-python`, Python driver for communicating with MySQL servers\n",
        "*   Create and use `HR` database\n",
        "*   Create table `Employees` and `Departments`\n",
        "*   Insert 4 records to table `Employees` and 3 records to table `Departments`\n",
        "\n"
      ],
      "metadata": {
        "id": "zQnFsE-iBEyw"
      }
    },
    {
      "cell_type": "code",
      "source": [
        "%%capture\n",
        "!pip install mysql-connector-python"
      ],
      "metadata": {
        "id": "mdOL7fJuDG0n"
      },
      "execution_count": 5,
      "outputs": []
    },
    {
      "cell_type": "code",
      "source": [
        "import mysql.connector\n",
        "import pandas as pd\n",
        "\n",
        "# Database connection settings\n",
        "HOST = \"localhost\"\n",
        "USER = \"test_user\"\n",
        "PASSWORD = \"test_p@ssw0rd\"\n",
        "DATABASE = \"HR\"\n",
        "\n",
        "# Connect to MySQL server\n",
        "conn = mysql.connector.connect(host=HOST, user=USER, password=PASSWORD)\n",
        "cursor = conn.cursor()\n",
        "\n",
        "# Create database\n",
        "cursor.execute(f\"CREATE DATABASE IF NOT EXISTS {DATABASE}\")\n",
        "cursor.execute(f\"USE {DATABASE}\")\n",
        "\n",
        "# Create tables\n",
        "cursor.execute(\"\"\"\n",
        "CREATE TABLE IF NOT EXISTS Employees (\n",
        "    id INT PRIMARY KEY,\n",
        "    name VARCHAR(50),\n",
        "    department_id INT\n",
        ");\n",
        "\"\"\")\n",
        "\n",
        "cursor.execute(\"\"\"\n",
        "CREATE TABLE IF NOT EXISTS Departments (\n",
        "    id INT PRIMARY KEY,\n",
        "    department_name VARCHAR(50)\n",
        ");\n",
        "\"\"\")\n",
        "\n",
        "# Clear old data incase we rerun colab\n",
        "cursor.execute(\"DELETE FROM Employees\")\n",
        "cursor.execute(\"DELETE FROM Departments\")\n",
        "\n",
        "# Insert sample data\n",
        "cursor.executemany(\"INSERT INTO Employees (id, name, department_id) VALUES (%s, %s, %s)\", [\n",
        "    (1, 'Alice', 1),\n",
        "    (2, 'Bob', 2),\n",
        "    (3, 'Charlie', 1),\n",
        "    (4, 'David', None)\n",
        "])\n",
        "\n",
        "cursor.executemany(\"INSERT INTO Departments (id, department_name) VALUES (%s, %s)\", [\n",
        "    (1, 'HR'),\n",
        "    (2, 'Finance'),\n",
        "    (3, 'Engineering')\n",
        "])\n",
        "\n",
        "# Commit when finished\n",
        "conn.commit()"
      ],
      "metadata": {
        "id": "KH1VxoGMBD56"
      },
      "execution_count": 6,
      "outputs": []
    },
    {
      "cell_type": "markdown",
      "source": [
        "Observe available data\n",
        "*   Check data in `Employees` table.\n",
        "*   Check data in `Departments` table.\n",
        "\n"
      ],
      "metadata": {
        "id": "ad3z9QKESj85"
      }
    },
    {
      "cell_type": "code",
      "source": [
        "! mysql -u test_user -ptest_p@ssw0rd HR -e 'SHOW TABLES'"
      ],
      "metadata": {
        "colab": {
          "base_uri": "https://localhost:8080/"
        },
        "id": "sRxkKIVK7zRM",
        "outputId": "bf4c0f58-8107-4572-c458-b2a580561ab4"
      },
      "execution_count": 7,
      "outputs": [
        {
          "output_type": "stream",
          "name": "stdout",
          "text": [
            "mysql: [Warning] Using a password on the command line interface can be insecure.\n",
            "+--------------+\n",
            "| Tables_in_HR |\n",
            "+--------------+\n",
            "| Departments  |\n",
            "| Employees    |\n",
            "+--------------+\n"
          ]
        }
      ]
    },
    {
      "cell_type": "code",
      "source": [
        "! mysql -u test_user -ptest_p@ssw0rd HR -e 'SELECT * FROM Employees'"
      ],
      "metadata": {
        "id": "Mi-4zw8QDEul",
        "colab": {
          "base_uri": "https://localhost:8080/"
        },
        "outputId": "f145e1c5-10e0-4f8a-ab39-8a617dd85ee0"
      },
      "execution_count": 8,
      "outputs": [
        {
          "output_type": "stream",
          "name": "stdout",
          "text": [
            "mysql: [Warning] Using a password on the command line interface can be insecure.\n",
            "+----+---------+---------------+\n",
            "| id | name    | department_id |\n",
            "+----+---------+---------------+\n",
            "|  1 | Alice   |             1 |\n",
            "|  2 | Bob     |             2 |\n",
            "|  3 | Charlie |             1 |\n",
            "|  4 | David   |          NULL |\n",
            "+----+---------+---------------+\n"
          ]
        }
      ]
    },
    {
      "cell_type": "code",
      "source": [
        "! mysql -u test_user -ptest_p@ssw0rd HR -e 'SELECT * FROM Departments'"
      ],
      "metadata": {
        "id": "St8jKtvYELbS",
        "colab": {
          "base_uri": "https://localhost:8080/"
        },
        "outputId": "1447b546-125c-40d7-d616-b5d3a83acaca"
      },
      "execution_count": 9,
      "outputs": [
        {
          "output_type": "stream",
          "name": "stdout",
          "text": [
            "mysql: [Warning] Using a password on the command line interface can be insecure.\n",
            "+----+-----------------+\n",
            "| id | department_name |\n",
            "+----+-----------------+\n",
            "|  1 | HR              |\n",
            "|  2 | Finance         |\n",
            "|  3 | Engineering     |\n",
            "+----+-----------------+\n"
          ]
        }
      ]
    },
    {
      "cell_type": "markdown",
      "source": [
        "## INNER JOIN\n",
        "\n",
        "INNER JOIN joins two tables based on common column and returns rows that have **matching values in both tables**.\n",
        "\n",
        "```\n",
        "SELECT Employees.id, Employees.name, Departments.department_name\n",
        "        FROM Employees\n",
        "        INNER JOIN Departments ON Employees.department_id = Departments.id\n",
        "```\n",
        "selects rows from both tables if values of `department_id` of `Employees` table and `id` of `Departments` table are matched. Only rows that are common between `Employees` table and `Departments` table are included.\n",
        "\n",
        "\n"
      ],
      "metadata": {
        "id": "nOaVSogeTMHb"
      }
    },
    {
      "cell_type": "markdown",
      "source": [
        "## LEFT JOIN\n",
        "\n",
        "LEFT JOIN combines two tables based on common column and returns **all rows from the left table**, and the matching rows from the right table. The result is NULL from the right side, if there is no match.\n",
        "\n",
        "```\n",
        "SELECT Employees.id, Employees.name, Departments.department_name\n",
        "        FROM Employees\n",
        "        LEFT JOIN Departments ON Employees.department_id = Departments.id\n",
        "```\n",
        "selects rows where values of `department_id` of `Employees` table matches `id` of `Departments` table. All records from the left table (`Employees`) are returned, even if there are no match in the right table (`Departments`)."
      ],
      "metadata": {
        "id": "PCFwApBiVm9f"
      }
    },
    {
      "cell_type": "markdown",
      "source": [
        "## RIGHT JOIN\n",
        "\n",
        "RIGHT JOIN combines two tables based on common column and returns **all rows from the right table**, and the matching rows from the left table. The result is NULL from the left side, if there is no match.\n",
        "\n",
        "```\n",
        "SELECT Employees.id, Employees.name, Departments.department_name\n",
        "        FROM Employees\n",
        "        RIGHT JOIN Departments ON Employees.department_id = Departments.id\n",
        "```\n",
        "selects rows where values of `department_id` of `Employees` table matches `id` of `Departments` table. All records from the right table (`Departments`) are returned, even if there are no match in the left table (`Employees`)."
      ],
      "metadata": {
        "id": "Jg7ZOWBxXnOp"
      }
    },
    {
      "cell_type": "code",
      "source": [
        "import pandas as pd\n",
        "# Create dictionary of join type as key, and SQL command as value\n",
        "queries = {\n",
        "    \"INNER JOIN\": \"\"\"\n",
        "        SELECT Employees.id, Employees.name, Departments.department_name\n",
        "        FROM Employees\n",
        "        INNER JOIN Departments ON Employees.department_id = Departments.id\n",
        "    \"\"\",\n",
        "    \"LEFT JOIN\": \"\"\"\n",
        "        SELECT Employees.id, Employees.name, Departments.department_name\n",
        "        FROM Employees\n",
        "        LEFT JOIN Departments ON Employees.department_id = Departments.id\n",
        "    \"\"\",\n",
        "    \"RIGHT JOIN\": \"\"\"\n",
        "        SELECT Employees.id, Employees.name, Departments.department_name\n",
        "        FROM Employees\n",
        "        RIGHT JOIN Departments ON Employees.department_id = Departments.id\n",
        "    \"\"\"\n",
        "}\n",
        "\n",
        "# Execute queries and display results\n",
        "for join_type, query in queries.items():\n",
        "    print(f\"Executing {join_type} query:\")\n",
        "    cursor.execute(query)\n",
        "    results = cursor.fetchall()\n",
        "    df = pd.DataFrame(results)\n",
        "    print(df)\n",
        "    print(\"-\" * 30)\n",
        "\n",
        "# Close connection\n",
        "cursor.close()\n",
        "conn.close()\n"
      ],
      "metadata": {
        "colab": {
          "base_uri": "https://localhost:8080/"
        },
        "id": "MJjExI4l8vDs",
        "outputId": "a980c608-710c-4b7b-85d0-d9afa8bef481"
      },
      "execution_count": 10,
      "outputs": [
        {
          "output_type": "stream",
          "name": "stdout",
          "text": [
            "Executing INNER JOIN query:\n",
            "   0        1        2\n",
            "0  1    Alice       HR\n",
            "1  2      Bob  Finance\n",
            "2  3  Charlie       HR\n",
            "------------------------------\n",
            "Executing LEFT JOIN query:\n",
            "   0        1        2\n",
            "0  1    Alice       HR\n",
            "1  2      Bob  Finance\n",
            "2  3  Charlie       HR\n",
            "3  4    David     None\n",
            "------------------------------\n",
            "Executing RIGHT JOIN query:\n",
            "     0        1            2\n",
            "0  3.0  Charlie           HR\n",
            "1  1.0    Alice           HR\n",
            "2  2.0      Bob      Finance\n",
            "3  NaN     None  Engineering\n",
            "------------------------------\n"
          ]
        }
      ]
    },
    {
      "cell_type": "markdown",
      "source": [
        "## Equivalent merge in pandas\n",
        "\n",
        "Pandas DataFrames can be merged with a database-style join.\n",
        "\n",
        "**`dataframe.merge(right, how, left_on, right_on)`** updates the content of two DataFrame by merging them together, using the specified method(s).\n",
        "*   `dataframe` : DataFrame to be merged into\n",
        "*   `right` : DataFrame to merge with\n",
        "*   `how` : Specifies how to merge. Default is `inner`.\n",
        "*   `left_on` : Column or index level names to join on in the left DataFrame.\n",
        "*   `right_on` : Column or index level names to join on in the right DataFrame.\n",
        "\n"
      ],
      "metadata": {
        "id": "lQFuN6WuFxxa"
      }
    },
    {
      "cell_type": "markdown",
      "source": [
        "**`dataframe.drop(labels=None, axis=0, index=None, columns=None)`** Remove rows or columns by specifying label names and corresponding axis, or by directly specifying index or column names.\n",
        "\n",
        "*   `labels` : Index or column labels to drop.\n",
        "*   `axis` : Whether to drop labels from the index (0 or 'index') or columns (1 or 'columns').\n",
        "*   `index` : Alternative to specifying axis (`labels, axis=0` is equivalent to `index=labels`)\n",
        "*   `columns` : Alternative to specifying axis (`labels, axis=1` is equivalent to `columns=labels`).\n",
        "\n",
        "\n"
      ],
      "metadata": {
        "id": "owXS_fVMbdSq"
      }
    },
    {
      "cell_type": "code",
      "source": [
        "import mysql.connector\n",
        "import pandas as pd\n",
        "\n",
        "# Database connection settings\n",
        "HOST = \"localhost\"\n",
        "USER = \"test_user\"\n",
        "PASSWORD = \"test_p@ssw0rd\"\n",
        "DATABASE = \"HR\"\n",
        "\n",
        "# Connect to MySQL and fetch data\n",
        "conn = mysql.connector.connect(host=HOST, user=USER, password=PASSWORD, database=DATABASE)\n",
        "cursor = conn.cursor()\n",
        "\n",
        "# Load Employees table into a Pandas DataFrame\n",
        "cursor.execute(\"SELECT * FROM Employees\")\n",
        "employees = pd.DataFrame(cursor.fetchall(), columns=['id', 'name', 'department_id'])\n",
        "\n",
        "# Load Departments table into a Pandas DataFrame\n",
        "cursor.execute(\"SELECT * FROM Departments\")\n",
        "departments = pd.DataFrame(cursor.fetchall(), columns=['id', 'department_name'])\n",
        "\n",
        "# Close connection\n",
        "cursor.close()\n",
        "conn.close()\n",
        "\n",
        "# Perform equivalent JOINs using Pandas\n",
        "joins = {\n",
        "    \"INNER JOIN\": pd.merge(employees, departments, how='inner', left_on='department_id', right_on='id'),\n",
        "    \"LEFT JOIN\": pd.merge(employees, departments, how='left', left_on='department_id', right_on='id'),\n",
        "    \"RIGHT JOIN\": pd.merge(employees, departments, how='right', left_on='department_id', right_on='id')\n",
        "}\n",
        "\n",
        "# Display results\n",
        "for join_type, df in joins.items():\n",
        "    print(f\"\\n--- {join_type} ---\")\n",
        "    print(df)"
      ],
      "metadata": {
        "id": "PxkXxOxHFYsO",
        "colab": {
          "base_uri": "https://localhost:8080/"
        },
        "outputId": "e104ec1d-c1d4-4967-e060-6c65e5cfbd23"
      },
      "execution_count": 12,
      "outputs": [
        {
          "output_type": "stream",
          "name": "stdout",
          "text": [
            "\n",
            "--- INNER JOIN ---\n",
            "   id_x     name  department_id  id_y department_name\n",
            "0     1    Alice            1.0     1              HR\n",
            "1     2      Bob            2.0     2         Finance\n",
            "2     3  Charlie            1.0     1              HR\n",
            "\n",
            "--- LEFT JOIN ---\n",
            "   id_x     name  department_id  id_y department_name\n",
            "0     1    Alice            1.0   1.0              HR\n",
            "1     2      Bob            2.0   2.0         Finance\n",
            "2     3  Charlie            1.0   1.0              HR\n",
            "3     4    David            NaN   NaN             NaN\n",
            "\n",
            "--- RIGHT JOIN ---\n",
            "   id_x     name  department_id  id_y department_name\n",
            "0   1.0    Alice            1.0     1              HR\n",
            "1   3.0  Charlie            1.0     1              HR\n",
            "2   2.0      Bob            2.0     2         Finance\n",
            "3   NaN      NaN            NaN     3     Engineering\n"
          ]
        }
      ]
    }
  ]
}